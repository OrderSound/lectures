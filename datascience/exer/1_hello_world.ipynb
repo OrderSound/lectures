{
 "cells": [
  {
   "cell_type": "code",
   "execution_count": 9,
   "metadata": {},
   "outputs": [
    {
     "name": "stdout",
     "output_type": "stream",
     "text": [
      "Hello World!\n",
      "100\n",
      "3.14\n",
      "My name is Park Seoyoung!\n"
     ]
    }
   ],
   "source": [
    "\"\"\"\n",
    "print() function\n",
    "\"\"\"\n",
    "\n",
    "print(\"Hello World!\")\n",
    "print(100)\n",
    "pi = 3.14\n",
    "print(pi)\n",
    "\n",
    "intro = \"My name is \"\n",
    "name = \"Park Seoyoung\"\n",
    "print(intro + name + \"!\")"
   ]
  },
  {
   "cell_type": "code",
   "execution_count": 10,
   "metadata": {},
   "outputs": [],
   "source": [
    "\"\"\"\n",
    "Variables\n",
    "\"\"\"\n",
    "\n",
    "# 나를 표현할 수 있는 정보 세 가지 이상을 변수로 선언하시오.\n",
    "user_name = \"Park Seoyoung\"\n",
    "user_age = 22\n",
    "user_gender = 'F'\n",
    "user_email = \"parksy1016@hs.ac.kr\""
   ]
  },
  {
   "cell_type": "code",
   "execution_count": 11,
   "metadata": {},
   "outputs": [],
   "source": [
    "\"\"\"\n",
    "Data Type: Integers\n",
    "\"\"\"\n",
    "\n",
    "# 집에 있는 세 가지 이상의 사물의 개수를 정수 변수로 표현하시오.\n",
    "desks = 3\n",
    "beds = 3\n",
    "fans = 3"
   ]
  },
  {
   "cell_type": "code",
   "execution_count": 12,
   "metadata": {},
   "outputs": [],
   "source": [
    "\"\"\"\n",
    "Data Types: Real Numebrs\n",
    "\"\"\"\n",
    "\n",
    "# 본인이 알고있는 세 개의 실수를 변수로 정의하시오.\n",
    "pi = 3.14\n",
    "kospi_index = 3125.76\n",
    "samsung_shares = 1.44"
   ]
  },
  {
   "cell_type": "code",
   "execution_count": 17,
   "metadata": {},
   "outputs": [
    {
     "name": "stdout",
     "output_type": "stream",
     "text": [
      "Don't judge a book by its cover.\n",
      "Elder scrolls\n",
      "Sonny\n",
      "Don't judge a book by its cover.Elder scrollsSonny\n"
     ]
    }
   ],
   "source": [
    "\"\"\"\n",
    "Data Types: Strings\n",
    "\"\"\"\n",
    "\n",
    "favorite_motto = \"Don't judge a book by its cover.\"\n",
    "favorite_game = \"Elder scrolls\"\n",
    "favorite_athlete = 'Sonny'\n",
    "\n",
    "print(favorite_motto)\n",
    "print(favorite_game)\n",
    "print(favorite_athlete)\n",
    "\n",
    "favorites = favorite_motto + favorite_game + favorite_athlete \n",
    "\n",
    "print(favorites)\n",
    "\n",
    "# 본인이 좋아하는 세 가지를 문자열로 정의하시오.\n",
    "favorite_animal = \"cat\"\n",
    "favorite_color = \"navy\"\n",
    "favorite_book = \"Sapiens\""
   ]
  },
  {
   "cell_type": "code",
   "execution_count": 24,
   "metadata": {},
   "outputs": [
    {
     "name": "stdout",
     "output_type": "stream",
     "text": [
      "8\n"
     ]
    }
   ],
   "source": [
    "\"\"\"\n",
    "x-Equals Operations\n",
    "\"\"\"\n",
    "\n",
    "a = 2\n",
    "a **= 3\n",
    "print(a)"
   ]
  },
  {
   "cell_type": "code",
   "execution_count": 23,
   "metadata": {},
   "outputs": [
    {
     "ename": "NameError",
     "evalue": "name 'my_name' is not defined",
     "output_type": "error",
     "traceback": [
      "\u001b[1;31m---------------------------------------------------------------------------\u001b[0m",
      "\u001b[1;31mNameError\u001b[0m                                 Traceback (most recent call last)",
      "\u001b[1;32m<ipython-input-23-f3154bcd3791>\u001b[0m in \u001b[0;36m<module>\u001b[1;34m\u001b[0m\n\u001b[0;32m      4\u001b[0m \u001b[1;33m\u001b[0m\u001b[0m\n\u001b[0;32m      5\u001b[0m \u001b[1;31m# Name Error\u001b[0m\u001b[1;33m\u001b[0m\u001b[1;33m\u001b[0m\u001b[1;33m\u001b[0m\u001b[0m\n\u001b[1;32m----> 6\u001b[1;33m \u001b[0mprint\u001b[0m\u001b[1;33m(\u001b[0m\u001b[0mmy_name\u001b[0m\u001b[1;33m)\u001b[0m\u001b[1;33m\u001b[0m\u001b[1;33m\u001b[0m\u001b[0m\n\u001b[0m\u001b[0;32m      7\u001b[0m \u001b[0mmy_name\u001b[0m \u001b[1;33m=\u001b[0m \u001b[1;34m\"Park Seoyoung\"\u001b[0m\u001b[1;33m\u001b[0m\u001b[1;33m\u001b[0m\u001b[0m\n",
      "\u001b[1;31mNameError\u001b[0m: name 'my_name' is not defined"
     ]
    }
   ],
   "source": [
    "\"\"\"\n",
    "Errors\n",
    "\"\"\"\n",
    "\n",
    "# Name Error\n",
    "print(my_name)\n",
    "my_name = \"Park Seoyoung\""
   ]
  },
  {
   "cell_type": "markdown",
   "metadata": {},
   "source": [
    "Practice 1:\n",
    "\n",
    "아래 코드들은 무엇을 하는 코드입니다"
   ]
  },
  {
   "cell_type": "code",
   "execution_count": null,
   "metadata": {},
   "outputs": [],
   "source": []
  }
 ],
 "metadata": {
  "kernelspec": {
   "display_name": "Python 3",
   "language": "python",
   "name": "python3"
  },
  "language_info": {
   "codemirror_mode": {
    "name": "ipython",
    "version": 3
   },
   "file_extension": ".py",
   "mimetype": "text/x-python",
   "name": "python",
   "nbconvert_exporter": "python",
   "pygments_lexer": "ipython3",
   "version": "3.8.5"
  }
 },
 "nbformat": 4,
 "nbformat_minor": 4
}
